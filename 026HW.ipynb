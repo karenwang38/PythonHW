{
 "cells": [
  {
   "cell_type": "code",
   "execution_count": 3,
   "metadata": {},
   "outputs": [
    {
     "name": "stdout",
     "output_type": "stream",
     "text": [
      "Collecting Scrapy\n",
      "  Downloading Scrapy-2.0.1-py2.py3-none-any.whl (242 kB)\n",
      "\u001b[K     |████████████████████████████████| 242 kB 309 kB/s eta 0:00:01\n",
      "\u001b[?25hRequirement already satisfied: lxml>=3.5.0 in /Users/karenwang/opt/anaconda3/lib/python3.7/site-packages (from Scrapy) (4.5.0)\n",
      "Collecting w3lib>=1.17.0\n",
      "  Downloading w3lib-1.21.0-py2.py3-none-any.whl (20 kB)\n",
      "Collecting zope.interface>=4.1.3\n",
      "  Downloading zope.interface-5.0.1.tar.gz (214 kB)\n",
      "\u001b[K     |████████████████████████████████| 214 kB 734 kB/s eta 0:00:01\n",
      "\u001b[?25hCollecting PyDispatcher>=2.0.5\n",
      "  Downloading PyDispatcher-2.0.5.tar.gz (34 kB)\n",
      "Requirement already satisfied: cryptography>=2.0 in /Users/karenwang/opt/anaconda3/lib/python3.7/site-packages (from Scrapy) (2.8)\n",
      "Requirement already satisfied: pyOpenSSL>=16.2.0 in /Users/karenwang/opt/anaconda3/lib/python3.7/site-packages (from Scrapy) (19.1.0)\n",
      "Collecting parsel>=1.5.0\n",
      "  Downloading parsel-1.5.2-py2.py3-none-any.whl (12 kB)\n",
      "Collecting cssselect>=0.9.1\n",
      "  Downloading cssselect-1.1.0-py2.py3-none-any.whl (16 kB)\n",
      "Collecting protego>=0.1.15\n",
      "  Downloading Protego-0.1.16.tar.gz (3.2 MB)\n",
      "\u001b[K     |████████████████████████████████| 3.2 MB 1.9 MB/s eta 0:00:01\n",
      "\u001b[?25hCollecting queuelib>=1.4.2\n",
      "  Downloading queuelib-1.5.0-py2.py3-none-any.whl (13 kB)\n",
      "Collecting Twisted>=17.9.0\n",
      "  Downloading Twisted-20.3.0-cp37-cp37m-macosx_10_6_intel.whl (3.1 MB)\n",
      "\u001b[K     |████████████████████████████████| 3.1 MB 2.8 MB/s eta 0:00:01\n",
      "\u001b[?25hCollecting service-identity>=16.0.0\n",
      "  Downloading service_identity-18.1.0-py2.py3-none-any.whl (11 kB)\n",
      "Requirement already satisfied: six>=1.4.1 in /Users/karenwang/opt/anaconda3/lib/python3.7/site-packages (from w3lib>=1.17.0->Scrapy) (1.14.0)\n",
      "Requirement already satisfied: setuptools in /Users/karenwang/opt/anaconda3/lib/python3.7/site-packages (from zope.interface>=4.1.3->Scrapy) (46.0.0)\n",
      "Requirement already satisfied: cffi!=1.11.3,>=1.8 in /Users/karenwang/opt/anaconda3/lib/python3.7/site-packages (from cryptography>=2.0->Scrapy) (1.14.0)\n",
      "Requirement already satisfied: attrs>=19.2.0 in /Users/karenwang/opt/anaconda3/lib/python3.7/site-packages (from Twisted>=17.9.0->Scrapy) (19.3.0)\n",
      "Collecting Automat>=0.3.0\n",
      "  Downloading Automat-20.2.0-py2.py3-none-any.whl (31 kB)\n",
      "Collecting hyperlink>=17.1.1\n",
      "  Downloading hyperlink-19.0.0-py2.py3-none-any.whl (38 kB)\n",
      "Collecting PyHamcrest!=1.10.0,>=1.9.0\n",
      "  Downloading PyHamcrest-2.0.2-py3-none-any.whl (52 kB)\n",
      "\u001b[K     |████████████████████████████████| 52 kB 1.7 MB/s eta 0:00:011\n",
      "\u001b[?25hCollecting constantly>=15.1\n",
      "  Using cached constantly-15.1.0-py2.py3-none-any.whl (7.9 kB)\n",
      "Collecting incremental>=16.10.1\n",
      "  Using cached incremental-17.5.0-py2.py3-none-any.whl (16 kB)\n",
      "Collecting pyasn1-modules\n",
      "  Downloading pyasn1_modules-0.2.8-py2.py3-none-any.whl (155 kB)\n",
      "\u001b[K     |████████████████████████████████| 155 kB 2.4 MB/s eta 0:00:01\n",
      "\u001b[?25hCollecting pyasn1\n",
      "  Downloading pyasn1-0.4.8-py2.py3-none-any.whl (77 kB)\n",
      "\u001b[K     |████████████████████████████████| 77 kB 2.9 MB/s eta 0:00:011\n",
      "\u001b[?25hRequirement already satisfied: pycparser in /Users/karenwang/opt/anaconda3/lib/python3.7/site-packages (from cffi!=1.11.3,>=1.8->cryptography>=2.0->Scrapy) (2.19)\n",
      "Requirement already satisfied: idna>=2.5 in /Users/karenwang/opt/anaconda3/lib/python3.7/site-packages (from hyperlink>=17.1.1->Twisted>=17.9.0->Scrapy) (2.8)\n",
      "Building wheels for collected packages: zope.interface, PyDispatcher, protego\n",
      "  Building wheel for zope.interface (setup.py) ... \u001b[?25ldone\n",
      "\u001b[?25h  Created wheel for zope.interface: filename=zope.interface-5.0.1-cp37-cp37m-macosx_10_9_x86_64.whl size=184393 sha256=75b55b79acc8d7393e84a35731234840106c6304f858fc573d690c0e1d6e29fe\n",
      "  Stored in directory: /Users/karenwang/Library/Caches/pip/wheels/34/62/1e/d40fc7d7f36e64ce5acc6b245aa53c81ab05c360247decdbd3\n",
      "  Building wheel for PyDispatcher (setup.py) ... \u001b[?25ldone\n",
      "\u001b[?25h  Created wheel for PyDispatcher: filename=PyDispatcher-2.0.5-py3-none-any.whl size=11515 sha256=09c32a8ecc613a5a9c355b0542bce2e78148ef675fbf22968281ad774efa15f2\n",
      "  Stored in directory: /Users/karenwang/Library/Caches/pip/wheels/dc/d0/bf/0cc715c01fce0bace63b46283acf5cc630d5e5dbb4602c54e5\n",
      "  Building wheel for protego (setup.py) ... \u001b[?25ldone\n",
      "\u001b[?25h  Created wheel for protego: filename=Protego-0.1.16-py3-none-any.whl size=7765 sha256=7cadbd0ead88929faf57cd987dbc126070afe2b7cb09a909ef16e5c04a705f16\n",
      "  Stored in directory: /Users/karenwang/Library/Caches/pip/wheels/ca/44/01/3592ccfbcfaee4ab297c4097e6e9dbe1c7697e3531a39877ab\n",
      "Successfully built zope.interface PyDispatcher protego\n",
      "Installing collected packages: w3lib, zope.interface, PyDispatcher, cssselect, parsel, protego, queuelib, Automat, hyperlink, PyHamcrest, constantly, incremental, Twisted, pyasn1, pyasn1-modules, service-identity, Scrapy\n",
      "Successfully installed Automat-20.2.0 PyDispatcher-2.0.5 PyHamcrest-2.0.2 Scrapy-2.0.1 Twisted-20.3.0 constantly-15.1.0 cssselect-1.1.0 hyperlink-19.0.0 incremental-17.5.0 parsel-1.5.2 protego-0.1.16 pyasn1-0.4.8 pyasn1-modules-0.2.8 queuelib-1.5.0 service-identity-18.1.0 w3lib-1.21.0 zope.interface-5.0.1\n",
      "Note: you may need to restart the kernel to use updated packages.\n"
     ]
    }
   ],
   "source": [
    "pip install Scrapy"
   ]
  },
  {
   "cell_type": "code",
   "execution_count": 2,
   "metadata": {},
   "outputs": [
    {
     "name": "stdout",
     "output_type": "stream",
     "text": [
      "/bin/sh: scrapy: command not found\r\n"
     ]
    }
   ],
   "source": [
    "!scrapy startproject myproject"
   ]
  },
  {
   "cell_type": "code",
   "execution_count": 4,
   "metadata": {},
   "outputs": [
    {
     "name": "stdout",
     "output_type": "stream",
     "text": [
      "/bin/sh: scrapy: command not found\r\n"
     ]
    }
   ],
   "source": [
    "!scrapy startproject myproject"
   ]
  },
  {
   "cell_type": "code",
   "execution_count": 7,
   "metadata": {},
   "outputs": [],
   "source": [
    "import scrapy "
   ]
  },
  {
   "cell_type": "code",
   "execution_count": 45,
   "metadata": {},
   "outputs": [
    {
     "name": "stdout",
     "output_type": "stream",
     "text": [
      "New Scrapy project 'hw026', using template directory '/usr/local/lib/python3.7/site-packages/scrapy/templates/project', created in:\r\n",
      "    /Users/karenwang/Desktop/Program/Python/SpiderCourse/PythonHW/hw026\r\n",
      "\r\n",
      "You can start your first spider with:\r\n",
      "    cd hw026\r\n",
      "    scrapy genspider example example.com\r\n"
     ]
    }
   ],
   "source": [
    "!scrapy startproject hw026"
   ]
  },
  {
   "cell_type": "code",
   "execution_count": 46,
   "metadata": {},
   "outputs": [
    {
     "name": "stdout",
     "output_type": "stream",
     "text": [
      "/Users/karenwang/Desktop/Program/Python/SpiderCourse/PythonHW/hw026\n"
     ]
    }
   ],
   "source": [
    "cd hw026"
   ]
  },
  {
   "cell_type": "code",
   "execution_count": 47,
   "metadata": {},
   "outputs": [
    {
     "name": "stdout",
     "output_type": "stream",
     "text": [
      "\u001b[34mhw026\u001b[m\u001b[m/      scrapy.cfg\r\n"
     ]
    }
   ],
   "source": [
    "ls"
   ]
  },
  {
   "cell_type": "code",
   "execution_count": 48,
   "metadata": {},
   "outputs": [
    {
     "name": "stdout",
     "output_type": "stream",
     "text": [
      "/Users/karenwang/Desktop/Program/Python/SpiderCourse/PythonHW/hw026/hw026\n"
     ]
    }
   ],
   "source": [
    "cd hw026"
   ]
  },
  {
   "cell_type": "code",
   "execution_count": 49,
   "metadata": {},
   "outputs": [
    {
     "name": "stdout",
     "output_type": "stream",
     "text": [
      "__init__.py     items.py        pipelines.py    \u001b[34mspiders\u001b[m\u001b[m/\r\n",
      "\u001b[34m__pycache__\u001b[m\u001b[m/    middlewares.py  settings.py\r\n"
     ]
    }
   ],
   "source": [
    "ls"
   ]
  },
  {
   "cell_type": "code",
   "execution_count": 50,
   "metadata": {},
   "outputs": [
    {
     "name": "stdout",
     "output_type": "stream",
     "text": [
      "/Users/karenwang/Desktop/Program/Python/SpiderCourse/PythonHW/hw026/hw026/spiders\n"
     ]
    }
   ],
   "source": [
    "cd spiders"
   ]
  },
  {
   "cell_type": "code",
   "execution_count": 51,
   "metadata": {},
   "outputs": [
    {
     "name": "stdout",
     "output_type": "stream",
     "text": [
      "__init__.py  \u001b[34m__pycache__\u001b[m\u001b[m/\r\n"
     ]
    }
   ],
   "source": [
    "ls"
   ]
  },
  {
   "cell_type": "code",
   "execution_count": null,
   "metadata": {},
   "outputs": [],
   "source": []
  }
 ],
 "metadata": {
  "kernelspec": {
   "display_name": "Python 3",
   "language": "python",
   "name": "python3"
  },
  "language_info": {
   "codemirror_mode": {
    "name": "ipython",
    "version": 3
   },
   "file_extension": ".py",
   "mimetype": "text/x-python",
   "name": "python",
   "nbconvert_exporter": "python",
   "pygments_lexer": "ipython3",
   "version": "3.7.4"
  }
 },
 "nbformat": 4,
 "nbformat_minor": 4
}
