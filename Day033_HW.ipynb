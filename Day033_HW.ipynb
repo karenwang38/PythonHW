{
 "cells": [
  {
   "cell_type": "markdown",
   "metadata": {},
   "source": [
    "# 反爬：登入授權模擬\n",
    "\n",
    "* 了解「登入權限機制」的反爬蟲機制\n",
    "* 「登入權限機制」反爬蟲的因應策略"
   ]
  },
  {
   "cell_type": "markdown",
   "metadata": {},
   "source": [
    "## 作業目標\n",
    "\n",
    "* 找一個需要登入的網站試試看，並說明思考流程\n",
    "（如果不知道要用哪個網站的話，可以試試看 https://github.com/new 網址，未登入時會被導向登入頁）\n",
    "\n"
   ]
  },
  {
   "cell_type": "code",
   "execution_count": 1,
   "metadata": {},
   "outputs": [],
   "source": [
    "import requests\n",
    "from bs4 import BeautifulSoup"
   ]
  },
  {
   "cell_type": "code",
   "execution_count": 39,
   "metadata": {},
   "outputs": [
    {
     "data": {
      "text/plain": [
       "'Create a New Repository'"
      ]
     },
     "execution_count": 39,
     "metadata": {},
     "output_type": "execute_result"
    }
   ],
   "source": [
    "new_url = 'https://github.com/new'\n",
    "login_url = 'https://github.com/session'\n",
    "# rs = requests.session()\n",
    "# login_headers = {\n",
    "#     'Accept': 'text/html,application/xhtml+xml,application/xml;q=0.9,image/webp,image/apng,*/*;q=0.8,application/signed-exchange;v=b3;q=0.9',\n",
    "#     'Accept-Encoding': 'gzip, deflate, br',\n",
    "#     'Accept-Language': 'zh-TW,zh;q=0.9,en-US;q=0.8,en;q=0.7',\n",
    "#     'Cache-Control': 'max-age=0',\n",
    "#     'Connection': 'keep-alive',\n",
    "#     'Content-Length': '425',\n",
    "#     'Content-Type': 'application/x-www-form-urlencoded',\n",
    "#     'Cookie': '_octo=GH1.1.226869970.1570466128; _ga=GA1.2.332131108.1570466129; _device_id=8c66979f6f5f24281dd9627301834013; tz=Asia%2FTaipei; has_recent_activity=1; logged_in=no; experiment:homepage_signup_flow=eyJ2ZXJzaW9uIjoiMSIsInJvbGxPdXRQbGFjZW1lbnQiOjYuNzQzMDUyNTU2ODE4MTMsInN1Ymdyb3VwIjoiY29udHJvbCIsImNyZWF0ZWRBdCI6IjIwMjAtMDQtMDVUMDc6NTA6NTEuNDU1WiIsInVwZGF0ZWRBdCI6IjIwMjAtMDQtMDVUMDc6NTA6NTEuNDU1WiJ9; _gh_sess=Vzs%2FpsK0MzDTm3TMROk1PolMCEFJixeUExTQAfyG0muPa8YmjwWunCtwgtDpuuusleROB2FP%2FBsQMNDEEoWzeurS93mysLQEUDLtNSixIDSD8J9Wrdh0NQvigxO3dz1lTY1FfnNs%2BfFMzmArFhSF25GACXAAHGbccvFzOvRGKD3%2BajJKfzRh%2BZY221M6BKXCNnVClIGiyJZVuRlGc9vwbpw2hlfTs1cdTvLuG9MNTSKobb3yXU7%2FyJB7mmkiVTQ7S%2FQOlFm%2BloqWMD2JVn2Z%2Fg%3D%3D--w4oAyLyg3mxSE3%2Bk--3veEMBaro%2B%2Bvf0dVmi0U8g%3D%3D; _gat=1',\n",
    "#     'Host': 'github.com',\n",
    "#     'Origin': 'https://github.com',\n",
    "#     'Referer': 'https://github.com/login?return_to=https%3A%2F%2Fgithub.com%2Fnew',\n",
    "#     'Sec-Fetch-Dest': 'document',\n",
    "#     'Sec-Fetch-Mode': 'navigate',\n",
    "#     'Sec-Fetch-Site': 'same-origin',\n",
    "#     'Sec-Fetch-User': '?1',\n",
    "#     'Upgrade-Insecure-Requests': '1',\n",
    "#     'User-Agent': 'Mozilla/5.0 (Macintosh; Intel Mac OS X 10_13_6) AppleWebKit/537.36 (KHTML, like Gecko) Chrome/80.0.3987.149 Safari/537.36',\n",
    "# }\n",
    "\n",
    "# payload = {\n",
    "#     'commit': 'Sign in',\n",
    "#     'authenticity_token': 'LgvUQeDaQqsNvvYpUMKZDyczglvtQs7I6aYsTGxGWU7HHmrCL9WK/EgoCYaHxuVUR0CNgA6OoMpOqrH6I46inQ==',\n",
    "#     'ga_id': '332131108.1570466129',\n",
    "#     'login': 'karenwang38',\n",
    "#     'password': '*******',\n",
    "#     'webauthn-support': 'supported',\n",
    "#     'webauthn-iuvpaa-support': 'supported',\n",
    "#     'return_to': 'https://github.com/new',\n",
    "#     'required_field_faca': '',\n",
    "#     'timestamp': '1586073053655',\n",
    "#     'timestamp_secret': '8e77b86082cbc2bf047da5c8f1b0c9cd114a0cec4a265fbe79951e13585743bd',\n",
    "# }\n",
    "\n",
    "cookies = {\n",
    "    'logged_in': 'yes',\n",
    "    'user_session': 'jKDJQKVuVUCKH-gV7DvB1dBl0nAmy77APrF-yaixtitfSxAO'\n",
    "}\n",
    " \n",
    "res = requests.get(new_url, cookies=cookies)\n",
    "# res = requests.get(new_url)\n",
    "soup = BeautifulSoup(res.text, 'lxml')\n",
    "soup.title.text"
   ]
  },
  {
   "cell_type": "code",
   "execution_count": null,
   "metadata": {},
   "outputs": [],
   "source": []
  }
 ],
 "metadata": {
  "kernelspec": {
   "display_name": "Python 3",
   "language": "python",
   "name": "python3"
  },
  "language_info": {
   "codemirror_mode": {
    "name": "ipython",
    "version": 3
   },
   "file_extension": ".py",
   "mimetype": "text/x-python",
   "name": "python",
   "nbconvert_exporter": "python",
   "pygments_lexer": "ipython3",
   "version": "3.7.4"
  }
 },
 "nbformat": 4,
 "nbformat_minor": 2
}
