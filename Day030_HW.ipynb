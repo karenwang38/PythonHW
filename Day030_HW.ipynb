{
 "cells": [
  {
   "cell_type": "markdown",
   "metadata": {},
   "source": [
    "# 實務上的爬蟲與挑戰\n",
    "\n",
    "\n",
    "* 實務上爬蟲可能遇到的問題有哪些\n",
    "* 淺談常見防爬蟲機制與處理策略\n",
    "* 如何建構一個可以自動持續更新的爬蟲程式\n",
    "\n",
    "\n"
   ]
  },
  {
   "cell_type": "markdown",
   "metadata": {},
   "source": [
    "## 作業目標\n",
    "\n",
    "* （簡答題）試著舉出一到三個爬蟲可能會遇到的問題導致無法抓取的？\n"
   ]
  },
  {
   "cell_type": "markdown",
   "metadata": {},
   "source": [
    "### （簡答題）試著舉出一到三個爬蟲可能會遇到的問題導致無法抓取的？"
   ]
  },
  {
   "cell_type": "markdown",
   "metadata": {},
   "source": [
    "1. 輸入驗證碼\n",
    "2. 需要權限\n",
    "3. User-Agent\n",
    "4. 訪問頻率限制\n",
    "5. 蜜罐技術:網頁上會故意留下一些人類看不到或者絕對不會點擊的鏈接。由於爬蟲會從源代碼中獲取內容，所以爬蟲可能會訪問這樣的鏈接。這個時候，只要網站發現了有IP訪問這個鏈接，立刻永久封禁該IP + User-Agent + Mac地址等等可以用於識別訪問者身份的所有信息。這個時候，訪問者即便是把IP換了，也沒有辦法訪問這個網站了。給爬蟲造成了非常大的訪問障礙​​。\n",
    "6. 每個相同類型的頁面的源代碼格式都不一樣"
   ]
  },
  {
   "cell_type": "code",
   "execution_count": 9,
   "metadata": {},
   "outputs": [
    {
     "name": "stdout",
     "output_type": "stream",
     "text": [
      "不使用代理的時候 2402:7500:58b:b0b2:6871:3fd0:3545:c44c\n",
      "\n",
      "使用代理的時候 2800:ba0:10:a2:2486:d5ff:fe37:1acf\n",
      "\n"
     ]
    }
   ],
   "source": [
    "# 代理IP測試\n",
    "import requests\n",
    "proxy = {'http':'http://190.103.178.13:8080'}\n",
    "html = requests.get('http://icanhazip.com/')\n",
    "html_poxy = requests.get('http://icanhazip.com/', proxies = proxy)\n",
    "\n",
    "print('不使用代理的時候 {}'.format(html.text))\n",
    "print('使用代理的時候 {}'.format(html_poxy.text))"
   ]
  },
  {
   "cell_type": "code",
   "execution_count": null,
   "metadata": {},
   "outputs": [],
   "source": []
  }
 ],
 "metadata": {
  "kernelspec": {
   "display_name": "Python 3",
   "language": "python",
   "name": "python3"
  },
  "language_info": {
   "codemirror_mode": {
    "name": "ipython",
    "version": 3
   },
   "file_extension": ".py",
   "mimetype": "text/x-python",
   "name": "python",
   "nbconvert_exporter": "python",
   "pygments_lexer": "ipython3",
   "version": "3.7.4"
  }
 },
 "nbformat": 4,
 "nbformat_minor": 2
}
