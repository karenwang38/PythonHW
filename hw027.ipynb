{
 "cells": [
  {
   "cell_type": "code",
   "execution_count": 16,
   "metadata": {},
   "outputs": [
    {
     "name": "stdout",
     "output_type": "stream",
     "text": [
      "/Users/karenwang/Desktop/Program/Python/SpiderCourse/PythonHW/hw026\n"
     ]
    }
   ],
   "source": [
    "cd hw026"
   ]
  },
  {
   "cell_type": "code",
   "execution_count": 23,
   "metadata": {},
   "outputs": [
    {
     "name": "stdout",
     "output_type": "stream",
     "text": [
      "/Users/karenwang/Desktop/Program/Python/SpiderCourse/PythonHW/hw026\n"
     ]
    }
   ],
   "source": [
    "cd .."
   ]
  },
  {
   "cell_type": "code",
   "execution_count": 24,
   "metadata": {},
   "outputs": [
    {
     "name": "stdout",
     "output_type": "stream",
     "text": [
      "Spider 'PTTFirst' already exists in module:\r\n",
      "  hw026.spiders.PTTFirst\r\n"
     ]
    }
   ],
   "source": [
    "import scrapy\n",
    "!scrapy genspider PTTFirst www.ptt.cc"
   ]
  },
  {
   "cell_type": "code",
   "execution_count": 25,
   "metadata": {},
   "outputs": [
    {
     "name": "stdout",
     "output_type": "stream",
     "text": [
      "2020-03-27 16:23:18 [scrapy.utils.log] INFO: Scrapy 2.0.1 started (bot: hw026)\n",
      "2020-03-27 16:23:18 [scrapy.utils.log] INFO: Versions: lxml 4.4.1.0, libxml2 2.9.9, cssselect 1.1.0, parsel 1.5.2, w3lib 1.21.0, Twisted 18.9.0, Python 3.7.0 (default, Oct  2 2018, 09:20:07) - [Clang 10.0.0 (clang-1000.11.45.2)], pyOpenSSL 17.0.0 (OpenSSL 1.1.0j  20 Nov 2018), cryptography 2.4.2, Platform Darwin-17.7.0-x86_64-i386-64bit\n",
      "2020-03-27 16:23:18 [scrapy.utils.log] DEBUG: Using reactor: twisted.internet.selectreactor.SelectReactor\n",
      "2020-03-27 16:23:18 [scrapy.crawler] INFO: Overridden settings:\n",
      "{'BOT_NAME': 'hw026',\n",
      " 'NEWSPIDER_MODULE': 'hw026.spiders',\n",
      " 'ROBOTSTXT_OBEY': True,\n",
      " 'SPIDER_MODULES': ['hw026.spiders']}\n",
      "2020-03-27 16:23:18 [scrapy.extensions.telnet] INFO: Telnet Password: 76fba348cd1137f7\n",
      "2020-03-27 16:23:18 [scrapy.middleware] INFO: Enabled extensions:\n",
      "['scrapy.extensions.corestats.CoreStats',\n",
      " 'scrapy.extensions.telnet.TelnetConsole',\n",
      " 'scrapy.extensions.memusage.MemoryUsage',\n",
      " 'scrapy.extensions.logstats.LogStats']\n",
      "2020-03-27 16:23:18 [scrapy.middleware] INFO: Enabled downloader middlewares:\n",
      "['scrapy.downloadermiddlewares.robotstxt.RobotsTxtMiddleware',\n",
      " 'scrapy.downloadermiddlewares.httpauth.HttpAuthMiddleware',\n",
      " 'scrapy.downloadermiddlewares.downloadtimeout.DownloadTimeoutMiddleware',\n",
      " 'scrapy.downloadermiddlewares.defaultheaders.DefaultHeadersMiddleware',\n",
      " 'scrapy.downloadermiddlewares.useragent.UserAgentMiddleware',\n",
      " 'scrapy.downloadermiddlewares.retry.RetryMiddleware',\n",
      " 'scrapy.downloadermiddlewares.redirect.MetaRefreshMiddleware',\n",
      " 'scrapy.downloadermiddlewares.httpcompression.HttpCompressionMiddleware',\n",
      " 'scrapy.downloadermiddlewares.redirect.RedirectMiddleware',\n",
      " 'scrapy.downloadermiddlewares.cookies.CookiesMiddleware',\n",
      " 'scrapy.downloadermiddlewares.httpproxy.HttpProxyMiddleware',\n",
      " 'scrapy.downloadermiddlewares.stats.DownloaderStats']\n",
      "2020-03-27 16:23:18 [scrapy.middleware] INFO: Enabled spider middlewares:\n",
      "['scrapy.spidermiddlewares.httperror.HttpErrorMiddleware',\n",
      " 'scrapy.spidermiddlewares.offsite.OffsiteMiddleware',\n",
      " 'scrapy.spidermiddlewares.referer.RefererMiddleware',\n",
      " 'scrapy.spidermiddlewares.urllength.UrlLengthMiddleware',\n",
      " 'scrapy.spidermiddlewares.depth.DepthMiddleware']\n",
      "2020-03-27 16:23:18 [scrapy.middleware] INFO: Enabled item pipelines:\n",
      "[]\n",
      "2020-03-27 16:23:18 [scrapy.core.engine] INFO: Spider opened\n",
      "2020-03-27 16:23:18 [scrapy.extensions.logstats] INFO: Crawled 0 pages (at 0 pages/min), scraped 0 items (at 0 items/min)\n",
      "2020-03-27 16:23:18 [scrapy.extensions.telnet] INFO: Telnet console listening on 127.0.0.1:6023\n",
      "2020-03-27 16:23:18 [scrapy.core.engine] DEBUG: Crawled (404) <GET https://www.ptt.cc/robots.txt> (referer: None)\n",
      "2020-03-27 16:23:18 [scrapy.core.engine] DEBUG: Crawled (200) <GET https://www.ptt.cc/bbs/joke/M.1585109572.A.0D8.html> (referer: None)\n",
      "2020-03-27 16:23:18 [py.warnings] WARNING: /Users/karenwang/Desktop/Program/Python/SpiderCourse/PythonHW/hw026/hw026/spiders/PTTFirst.py:19: UserWarning: No parser was explicitly specified, so I'm using the best available HTML parser for this system (\"lxml\"). This usually isn't a problem, but if you run this code on another system, or in a different virtual environment, it may use a different parser and behave differently.\n",
      "\n",
      "The code that caused this warning is on line 19 of the file /Users/karenwang/Desktop/Program/Python/SpiderCourse/PythonHW/hw026/hw026/spiders/PTTFirst.py. To get rid of this warning, pass the additional argument 'features=\"lxml\"' to the BeautifulSoup constructor.\n",
      "\n",
      "  soup = BeautifulSoup(response.text)\n",
      "\n",
      "作者 : g8956956 (低調的手滑)\n",
      "標題 : [趣圖] 有趣分享集（3-25）\n",
      "時間 : Wed Mar 25 12:12:50 2020\n",
      "\n",
      "====== text ======\n",
      " ['', '作者g8956956 (低調的手滑)看板joke標題[趣圖] 有趣分享集（3-25）時間Wed Mar 25 12:12:50 2020', '寫下五個你會拼的字……呃……這個該說偷雞還是聰明？', 'https://i.imgur.com/o3SgPXD.jpg', '', '【 有趣分享集-分享各種新奇有趣事物】', 'https://lioview.blogspot.com/2020/03/3-25.html', '', '', '--', '※ 發信站: 批踢踢實業坊(ptt.cc), 來自: 39.8.190.179 (臺灣)', '※ 文章網址: https://www.ptt.cc/bbs/joke/M.1585109572.A.0D8.html', '推 Sniqow: 聰明學生，老師願賭服輸 03/25 13:22', '推 sandiato: 猴子搶饅頭@@ 03/25 13:25', '推 hodyangel: 我想到半屏山的故事 03/25 17:07', '推 lovedog0731: 可是他拼拼錯 03/25 17:37', '推 notneme159: 推個 03/25 21:54', '推 DaHahn: 03/25 23:36', '推 genaro: 03/26 12:42', '推 awaken: 03/26 15:07', '', '', '']\n",
      "2020-03-27 16:23:18 [scrapy.core.engine] INFO: Closing spider (finished)\n",
      "2020-03-27 16:23:18 [scrapy.statscollectors] INFO: Dumping Scrapy stats:\n",
      "{'downloader/request_bytes': 689,\n",
      " 'downloader/request_count': 2,\n",
      " 'downloader/request_method_count/GET': 2,\n",
      " 'downloader/response_bytes': 4051,\n",
      " 'downloader/response_count': 2,\n",
      " 'downloader/response_status_count/200': 1,\n",
      " 'downloader/response_status_count/404': 1,\n",
      " 'elapsed_time_seconds': 0.708148,\n",
      " 'finish_reason': 'finished',\n",
      " 'finish_time': datetime.datetime(2020, 3, 27, 8, 23, 18, 881206),\n",
      " 'log_count/DEBUG': 2,\n",
      " 'log_count/INFO': 10,\n",
      " 'log_count/WARNING': 1,\n",
      " 'memusage/max': 53739520,\n",
      " 'memusage/startup': 53739520,\n",
      " 'response_received_count': 2,\n",
      " 'robotstxt/request_count': 1,\n",
      " 'robotstxt/response_count': 1,\n",
      " 'robotstxt/response_status_count/404': 1,\n",
      " 'scheduler/dequeued': 1,\n",
      " 'scheduler/dequeued/memory': 1,\n",
      " 'scheduler/enqueued': 1,\n",
      " 'scheduler/enqueued/memory': 1,\n",
      " 'start_time': datetime.datetime(2020, 3, 27, 8, 23, 18, 173058)}\n",
      "2020-03-27 16:23:18 [scrapy.core.engine] INFO: Spider closed (finished)\n"
     ]
    }
   ],
   "source": [
    "!scrapy crawl PTTFirst"
   ]
  },
  {
   "cell_type": "code",
   "execution_count": 33,
   "metadata": {},
   "outputs": [
    {
     "data": {
      "text/plain": [
       "'/Users/karenwang/Desktop/Program/Python/SpiderCourse/PythonHW/Day027_Scrapy_item/myproject'"
      ]
     },
     "execution_count": 33,
     "metadata": {},
     "output_type": "execute_result"
    }
   ],
   "source": [
    "pwd"
   ]
  },
  {
   "cell_type": "code",
   "execution_count": 34,
   "metadata": {},
   "outputs": [
    {
     "name": "stdout",
     "output_type": "stream",
     "text": [
      "\u001b[34mmyproject\u001b[m\u001b[m/  scrapy.cfg\r\n"
     ]
    }
   ],
   "source": [
    "ls"
   ]
  },
  {
   "cell_type": "code",
   "execution_count": 35,
   "metadata": {},
   "outputs": [
    {
     "name": "stdout",
     "output_type": "stream",
     "text": [
      "Spider 'PTTCrawler' already exists in module:\r\n",
      "  myproject.spiders.PTTCrawler\r\n"
     ]
    }
   ],
   "source": [
    "!scrapy genspider PTTCrawler www.ptt.cc"
   ]
  },
  {
   "cell_type": "code",
   "execution_count": 36,
   "metadata": {},
   "outputs": [
    {
     "name": "stdout",
     "output_type": "stream",
     "text": [
      "2020-03-27 16:57:44 [scrapy.utils.log] INFO: Scrapy 2.0.1 started (bot: myproject)\n",
      "2020-03-27 16:57:44 [scrapy.utils.log] INFO: Versions: lxml 4.4.1.0, libxml2 2.9.9, cssselect 1.1.0, parsel 1.5.2, w3lib 1.21.0, Twisted 18.9.0, Python 3.7.0 (default, Oct  2 2018, 09:20:07) - [Clang 10.0.0 (clang-1000.11.45.2)], pyOpenSSL 17.0.0 (OpenSSL 1.1.0j  20 Nov 2018), cryptography 2.4.2, Platform Darwin-17.7.0-x86_64-i386-64bit\n",
      "2020-03-27 16:57:44 [scrapy.utils.log] DEBUG: Using reactor: twisted.internet.selectreactor.SelectReactor\n",
      "2020-03-27 16:57:44 [scrapy.crawler] INFO: Overridden settings:\n",
      "{'BOT_NAME': 'myproject',\n",
      " 'NEWSPIDER_MODULE': 'myproject.spiders',\n",
      " 'ROBOTSTXT_OBEY': True,\n",
      " 'SPIDER_MODULES': ['myproject.spiders']}\n",
      "2020-03-27 16:57:44 [scrapy.extensions.telnet] INFO: Telnet Password: 7b596bfb7bc2e4f5\n",
      "2020-03-27 16:57:44 [scrapy.middleware] INFO: Enabled extensions:\n",
      "['scrapy.extensions.corestats.CoreStats',\n",
      " 'scrapy.extensions.telnet.TelnetConsole',\n",
      " 'scrapy.extensions.memusage.MemoryUsage',\n",
      " 'scrapy.extensions.logstats.LogStats']\n",
      "2020-03-27 16:57:44 [scrapy.middleware] INFO: Enabled downloader middlewares:\n",
      "['scrapy.downloadermiddlewares.robotstxt.RobotsTxtMiddleware',\n",
      " 'scrapy.downloadermiddlewares.httpauth.HttpAuthMiddleware',\n",
      " 'scrapy.downloadermiddlewares.downloadtimeout.DownloadTimeoutMiddleware',\n",
      " 'scrapy.downloadermiddlewares.defaultheaders.DefaultHeadersMiddleware',\n",
      " 'scrapy.downloadermiddlewares.useragent.UserAgentMiddleware',\n",
      " 'scrapy.downloadermiddlewares.retry.RetryMiddleware',\n",
      " 'scrapy.downloadermiddlewares.redirect.MetaRefreshMiddleware',\n",
      " 'scrapy.downloadermiddlewares.httpcompression.HttpCompressionMiddleware',\n",
      " 'scrapy.downloadermiddlewares.redirect.RedirectMiddleware',\n",
      " 'scrapy.downloadermiddlewares.cookies.CookiesMiddleware',\n",
      " 'scrapy.downloadermiddlewares.httpproxy.HttpProxyMiddleware',\n",
      " 'scrapy.downloadermiddlewares.stats.DownloaderStats']\n",
      "2020-03-27 16:57:44 [scrapy.middleware] INFO: Enabled spider middlewares:\n",
      "['scrapy.spidermiddlewares.httperror.HttpErrorMiddleware',\n",
      " 'scrapy.spidermiddlewares.offsite.OffsiteMiddleware',\n",
      " 'scrapy.spidermiddlewares.referer.RefererMiddleware',\n",
      " 'scrapy.spidermiddlewares.urllength.UrlLengthMiddleware',\n",
      " 'scrapy.spidermiddlewares.depth.DepthMiddleware']\n",
      "2020-03-27 16:57:44 [scrapy.middleware] INFO: Enabled item pipelines:\n",
      "['myproject.pipelines.JSONPipeline']\n",
      "2020-03-27 16:57:44 [scrapy.core.engine] INFO: Spider opened\n",
      "2020-03-27 16:57:44 [PTTCrawler] DEBUG: Create temp file for store JSON - /Users/karenwang/Desktop/Program/Python/SpiderCourse/PythonHW/Day027_Scrapy_item/myproject/crawled_data/.tmp.json.swp\n",
      "2020-03-27 16:57:44 [scrapy.extensions.logstats] INFO: Crawled 0 pages (at 0 pages/min), scraped 0 items (at 0 items/min)\n",
      "2020-03-27 16:57:44 [scrapy.extensions.telnet] INFO: Telnet console listening on 127.0.0.1:6023\n",
      "2020-03-27 16:57:44 [scrapy.core.engine] DEBUG: Crawled (404) <GET https://www.ptt.cc/robots.txt> (referer: None)\n",
      "2020-03-27 16:57:44 [scrapy.core.engine] DEBUG: Crawled (200) <GET https://www.ptt.cc/bbs/Gossiping/M.1557928779.A.0C1.html> (referer: None)\n",
      "2020-03-27 16:57:44 [py.warnings] WARNING: /Users/karenwang/Desktop/Program/Python/SpiderCourse/PythonHW/Day027_Scrapy_item/myproject/myproject/spiders/PTTCrawler.py:28: UserWarning: No parser was explicitly specified, so I'm using the best available HTML parser for this system (\"lxml\"). This usually isn't a problem, but if you run this code on another system, or in a different virtual environment, it may use a different parser and behave differently.\n",
      "\n",
      "The code that caused this warning is on line 28 of the file /Users/karenwang/Desktop/Program/Python/SpiderCourse/PythonHW/Day027_Scrapy_item/myproject/myproject/spiders/PTTCrawler.py. To get rid of this warning, pass the additional argument 'features=\"lxml\"' to the BeautifulSoup constructor.\n",
      "\n",
      "  soup = BeautifulSoup(response.text)\n",
      "\n",
      "2020-03-27 16:57:44 [scrapy.core.scraper] DEBUG: Scraped from <200 https://www.ptt.cc/bbs/Gossiping/M.1557928779.A.0C1.html>\n",
      "{'url': 'https://www.ptt.cc/bbs/Gossiping/M.1557928779.A.0C1.html', 'article_id': 'M.1557928779.A.0C1', 'article_author': 'hahaccu (靠臉吃飯的小魯)', 'article_title': '[問卦] 請家人吃飯好店推薦', 'article_date': 'Wed May 15 21:59:37 2019', 'article_content': '大家好，台嘎後，打給後\\n\\n本肥請家人吃飯\\n\\n每次只能想到欣葉，馬辣等吃到飽沒新意的店\\n\\n有沒有厲害有特色的店可以推薦\\n\\n謝謝\\n\\n https://www.ptt.cc/bbs/Gossiping/M.1557928779.A.0C1.html 對，北部 味道不是都一樣ㄇ (筆記)', 'ip': '111.71.55.130', 'message_count': {'all': 12, 'count': 0, 'push': 2, 'boo': 2, 'neutral': 8}, 'messages': [{'push_tag': '→', 'push_userid': 'uuyouru', 'push_content': '住哪', 'push_ipdatetime': '05/15 21:59'}, {'push_tag': '噓', 'push_userid': 'DsLove710', 'push_content': '麥當勞', 'push_ipdatetime': '05/15 21:59'}, {'push_tag': '→', 'push_userid': 'uuyouru', 'push_content': '台北ㄇ', 'push_ipdatetime': '05/15 22:00'}, {'push_tag': '→', 'push_userid': 'hawaii987', 'push_content': '你家巷口', 'push_ipdatetime': '05/15 22:00'}, {'push_tag': '噓', 'push_userid': 'Doub1eK', 'push_content': '我家巷口', 'push_ipdatetime': '05/15 22:00'}, {'push_tag': '推', 'push_userid': 'pipi8696044', 'push_content': '台科大自助餐', 'push_ipdatetime': '05/15 22:00'}, {'push_tag': '→', 'push_userid': 'tyrande', 'push_content': 'M記快餐 K記快餐', 'push_ipdatetime': '05/15 22:00'}, {'push_tag': '→', 'push_userid': 'DongWooNeKo', 'push_content': '不知道', 'push_ipdatetime': '05/15 22:00'}, {'push_tag': '→', 'push_userid': 'JEWH', 'push_content': '女權', 'push_ipdatetime': '05/15 22:00'}, {'push_tag': '→', 'push_userid': 'guhong', 'push_content': '中壢家樂福一樓的三商巧福，好吃到舌頭掉下來', 'push_ipdatetime': '05/15 22:01'}, {'push_tag': '→', 'push_userid': 'alex00089', 'push_content': '墾丁嗎？', 'push_ipdatetime': '05/15 22:04'}, {'push_tag': '推', 'push_userid': 'boboking2', 'push_content': '新馬辣', 'push_ipdatetime': '05/15 22:05'}]}\n",
      "2020-03-27 16:57:44 [scrapy.core.engine] INFO: Closing spider (finished)\n",
      "2020-03-27 16:57:44 [PTTCrawler] DEBUG: Save result at /Users/karenwang/Desktop/Program/Python/SpiderCourse/PythonHW/Day027_Scrapy_item/myproject/crawled_data/20200327T16:57:44-20200327T16:57:44.json\n",
      "2020-03-27 16:57:44 [scrapy.statscollectors] INFO: Dumping Scrapy stats:\n",
      "{'downloader/request_bytes': 694,\n",
      " 'downloader/request_count': 2,\n",
      " 'downloader/request_method_count/GET': 2,\n",
      " 'downloader/response_bytes': 4253,\n",
      " 'downloader/response_count': 2,\n",
      " 'downloader/response_status_count/200': 1,\n",
      " 'downloader/response_status_count/404': 1,\n",
      " 'elapsed_time_seconds': 0.587228,\n",
      " 'finish_reason': 'finished',\n",
      " 'finish_time': datetime.datetime(2020, 3, 27, 8, 57, 44, 796871),\n",
      " 'item_scraped_count': 1,\n",
      " 'log_count/DEBUG': 5,\n",
      " 'log_count/INFO': 10,\n",
      " 'log_count/WARNING': 1,\n",
      " 'memusage/max': 54132736,\n",
      " 'memusage/startup': 54132736,\n",
      " 'response_received_count': 2,\n",
      " 'robotstxt/request_count': 1,\n",
      " 'robotstxt/response_count': 1,\n",
      " 'robotstxt/response_status_count/404': 1,\n",
      " 'scheduler/dequeued': 1,\n",
      " 'scheduler/dequeued/memory': 1,\n",
      " 'scheduler/enqueued': 1,\n",
      " 'scheduler/enqueued/memory': 1,\n",
      " 'start_time': datetime.datetime(2020, 3, 27, 8, 57, 44, 209643)}\n",
      "2020-03-27 16:57:44 [scrapy.core.engine] INFO: Spider closed (finished)\n"
     ]
    }
   ],
   "source": [
    "!scrapy crawl PTTCrawler"
   ]
  },
  {
   "cell_type": "code",
   "execution_count": 44,
   "metadata": {},
   "outputs": [
    {
     "name": "stdout",
     "output_type": "stream",
     "text": [
      "/Users/karenwang/Desktop/Program/Python/SpiderCourse/PythonHW/hw026\n"
     ]
    }
   ],
   "source": [
    "cd hw026"
   ]
  },
  {
   "cell_type": "code",
   "execution_count": 45,
   "metadata": {},
   "outputs": [
    {
     "name": "stdout",
     "output_type": "stream",
     "text": [
      "\u001b[34mhw026\u001b[m\u001b[m/      scrapy.cfg\r\n"
     ]
    }
   ],
   "source": [
    "ls"
   ]
  },
  {
   "cell_type": "code",
   "execution_count": 56,
   "metadata": {},
   "outputs": [
    {
     "name": "stdout",
     "output_type": "stream",
     "text": [
      "Spider 'PTTFirst' already exists in module:\r\n",
      "  hw026.spiders.PTTFirst\r\n"
     ]
    }
   ],
   "source": [
    "!scrapy genspider PTTFirst www.ptt.cc"
   ]
  },
  {
   "cell_type": "code",
   "execution_count": 61,
   "metadata": {},
   "outputs": [
    {
     "name": "stdout",
     "output_type": "stream",
     "text": [
      "2020-03-28 13:27:24 [scrapy.utils.log] INFO: Scrapy 2.0.1 started (bot: hw026)\n",
      "2020-03-28 13:27:24 [scrapy.utils.log] INFO: Versions: lxml 4.4.1.0, libxml2 2.9.9, cssselect 1.1.0, parsel 1.5.2, w3lib 1.21.0, Twisted 18.9.0, Python 3.7.0 (default, Oct  2 2018, 09:20:07) - [Clang 10.0.0 (clang-1000.11.45.2)], pyOpenSSL 17.0.0 (OpenSSL 1.1.0j  20 Nov 2018), cryptography 2.4.2, Platform Darwin-17.7.0-x86_64-i386-64bit\n",
      "2020-03-28 13:27:24 [scrapy.utils.log] DEBUG: Using reactor: twisted.internet.selectreactor.SelectReactor\n",
      "2020-03-28 13:27:24 [scrapy.crawler] INFO: Overridden settings:\n",
      "{'BOT_NAME': 'hw026',\n",
      " 'NEWSPIDER_MODULE': 'hw026.spiders',\n",
      " 'ROBOTSTXT_OBEY': True,\n",
      " 'SPIDER_MODULES': ['hw026.spiders']}\n",
      "2020-03-28 13:27:24 [scrapy.extensions.telnet] INFO: Telnet Password: f26dbed09f55c908\n",
      "2020-03-28 13:27:24 [scrapy.middleware] INFO: Enabled extensions:\n",
      "['scrapy.extensions.corestats.CoreStats',\n",
      " 'scrapy.extensions.telnet.TelnetConsole',\n",
      " 'scrapy.extensions.memusage.MemoryUsage',\n",
      " 'scrapy.extensions.logstats.LogStats']\n",
      "2020-03-28 13:27:24 [scrapy.middleware] INFO: Enabled downloader middlewares:\n",
      "['scrapy.downloadermiddlewares.robotstxt.RobotsTxtMiddleware',\n",
      " 'scrapy.downloadermiddlewares.httpauth.HttpAuthMiddleware',\n",
      " 'scrapy.downloadermiddlewares.downloadtimeout.DownloadTimeoutMiddleware',\n",
      " 'scrapy.downloadermiddlewares.defaultheaders.DefaultHeadersMiddleware',\n",
      " 'scrapy.downloadermiddlewares.useragent.UserAgentMiddleware',\n",
      " 'scrapy.downloadermiddlewares.retry.RetryMiddleware',\n",
      " 'scrapy.downloadermiddlewares.redirect.MetaRefreshMiddleware',\n",
      " 'scrapy.downloadermiddlewares.httpcompression.HttpCompressionMiddleware',\n",
      " 'scrapy.downloadermiddlewares.redirect.RedirectMiddleware',\n",
      " 'scrapy.downloadermiddlewares.cookies.CookiesMiddleware',\n",
      " 'scrapy.downloadermiddlewares.httpproxy.HttpProxyMiddleware',\n",
      " 'scrapy.downloadermiddlewares.stats.DownloaderStats']\n",
      "2020-03-28 13:27:24 [scrapy.middleware] INFO: Enabled spider middlewares:\n",
      "['scrapy.spidermiddlewares.httperror.HttpErrorMiddleware',\n",
      " 'scrapy.spidermiddlewares.offsite.OffsiteMiddleware',\n",
      " 'scrapy.spidermiddlewares.referer.RefererMiddleware',\n",
      " 'scrapy.spidermiddlewares.urllength.UrlLengthMiddleware',\n",
      " 'scrapy.spidermiddlewares.depth.DepthMiddleware']\n",
      "2020-03-28 13:27:24 [scrapy.middleware] INFO: Enabled item pipelines:\n",
      "['hw026.pipelines.JSONPipeline']\n",
      "2020-03-28 13:27:24 [scrapy.core.engine] INFO: Spider opened\n",
      "2020-03-28 13:27:24 [PTTFirst] DEBUG: dir_path: /Users/karenwang/Desktop/Program/Python/SpiderCourse/PythonHW/hw026/collect_data\n",
      "2020-03-28 13:27:24 [PTTFirst] DEBUG: Create temp file for store JSON - /Users/karenwang/Desktop/Program/Python/SpiderCourse/PythonHW/hw026/collect_data/.tmp.json.swp\n",
      "2020-03-28 13:27:25 [scrapy.extensions.logstats] INFO: Crawled 0 pages (at 0 pages/min), scraped 0 items (at 0 items/min)\n",
      "2020-03-28 13:27:25 [scrapy.extensions.telnet] INFO: Telnet console listening on 127.0.0.1:6023\n",
      "2020-03-28 13:27:25 [scrapy.core.engine] DEBUG: Crawled (404) <GET https://www.ptt.cc/robots.txt> (referer: None)\n",
      "2020-03-28 13:27:25 [scrapy.core.engine] DEBUG: Crawled (200) <GET https://www.ptt.cc/bbs/joke/M.1585109572.A.0D8.html> (referer: None)\n",
      "2020-03-28 13:27:25 [py.warnings] WARNING: /Users/karenwang/Desktop/Program/Python/SpiderCourse/PythonHW/hw026/hw026/spiders/PTTFirst.py:21: UserWarning: No parser was explicitly specified, so I'm using the best available HTML parser for this system (\"lxml\"). This usually isn't a problem, but if you run this code on another system, or in a different virtual environment, it may use a different parser and behave differently.\n",
      "\n",
      "The code that caused this warning is on line 21 of the file /Users/karenwang/Desktop/Program/Python/SpiderCourse/PythonHW/hw026/hw026/spiders/PTTFirst.py. To get rid of this warning, pass the additional argument 'features=\"lxml\"' to the BeautifulSoup constructor.\n",
      "\n",
      "  soup = BeautifulSoup(response.text)\n",
      "\n",
      "作者 : g8956956 (低調的手滑)\n",
      "標題 : [趣圖] 有趣分享集（3-25）\n",
      "時間 : Wed Mar 25 12:12:50 2020\n",
      "\n",
      "====== text ======\n",
      " ['', '作者g8956956 (低調的手滑)看板joke標題[趣圖] 有趣分享集（3-25）時間Wed Mar 25 12:12:50 2020', '寫下五個你會拼的字……呃……這個該說偷雞還是聰明？', 'https://i.imgur.com/o3SgPXD.jpg', '', '【 有趣分享集-分享各種新奇有趣事物】', 'https://lioview.blogspot.com/2020/03/3-25.html', '', '', '--', '※ 發信站: 批踢踢實業坊(ptt.cc), 來自: 39.8.190.179 (臺灣)', '※ 文章網址: https://www.ptt.cc/bbs/joke/M.1585109572.A.0D8.html', '推 Sniqow: 聰明學生，老師願賭服輸 03/25 13:22', '推 sandiato: 猴子搶饅頭@@ 03/25 13:25', '推 hodyangel: 我想到半屏山的故事 03/25 17:07', '推 lovedog0731: 可是他拼拼錯 03/25 17:37', '推 notneme159: 推個 03/25 21:54', '推 DaHahn: 03/25 23:36', '推 genaro: 03/26 12:42', '推 awaken: 03/26 15:07', '', '', '']\n",
      "data:  {'context': ['',\n",
      "             '作者g8956956 (低調的手滑)看板joke標題[趣圖] 有趣分享集（3-25）時間Wed Mar 25 12:12:50 '\n",
      "             '2020',\n",
      "             '寫下五個你會拼的字……呃……這個該說偷雞還是聰明？',\n",
      "             'https://i.imgur.com/o3SgPXD.jpg',\n",
      "             '',\n",
      "             '【 有趣分享集-分享各種新奇有趣事物】',\n",
      "             'https://lioview.blogspot.com/2020/03/3-25.html',\n",
      "             '',\n",
      "             '',\n",
      "             '--',\n",
      "             '※ 發信站: 批踢踢實業坊(ptt.cc), 來自: 39.8.190.179 (臺灣)',\n",
      "             '※ 文章網址: https://www.ptt.cc/bbs/joke/M.1585109572.A.0D8.html',\n",
      "             '推 Sniqow: 聰明學生，老師願賭服輸 03/25 13:22',\n",
      "             '推 sandiato: 猴子搶饅頭@@ 03/25 13:25',\n",
      "             '推 hodyangel: 我想到半屏山的故事 03/25 17:07',\n",
      "             '推 lovedog0731: 可是他拼拼錯 03/25 17:37',\n",
      "             '推 notneme159: 推個 03/25 21:54',\n",
      "             '推 DaHahn: 03/25 23:36',\n",
      "             '推 genaro: 03/26 12:42',\n",
      "             '推 awaken: 03/26 15:07',\n",
      "             '',\n",
      "             '',\n",
      "             ''],\n",
      " '作者': 'g8956956 (低調的手滑)',\n",
      " '時間': 'Wed Mar 25 12:12:50 2020',\n",
      " '標題': '[趣圖] 有趣分享集（3-25）'}\n",
      "2020-03-28 13:27:25 [scrapy.core.scraper] DEBUG: Scraped from <200 https://www.ptt.cc/bbs/joke/M.1585109572.A.0D8.html>\n",
      "{'作者': 'g8956956 (低調的手滑)', '標題': '[趣圖] 有趣分享集（3-25）', '時間': 'Wed Mar 25 12:12:50 2020', 'context': ['', '作者g8956956 (低調的手滑)看板joke標題[趣圖] 有趣分享集（3-25）時間Wed Mar 25 12:12:50 2020', '寫下五個你會拼的字……呃……這個該說偷雞還是聰明？', 'https://i.imgur.com/o3SgPXD.jpg', '', '【 有趣分享集-分享各種新奇有趣事物】', 'https://lioview.blogspot.com/2020/03/3-25.html', '', '', '--', '※ 發信站: 批踢踢實業坊(ptt.cc), 來自: 39.8.190.179 (臺灣)', '※ 文章網址: https://www.ptt.cc/bbs/joke/M.1585109572.A.0D8.html', '推 Sniqow: 聰明學生，老師願賭服輸 03/25 13:22', '推 sandiato: 猴子搶饅頭@@ 03/25 13:25', '推 hodyangel: 我想到半屏山的故事 03/25 17:07', '推 lovedog0731: 可是他拼拼錯 03/25 17:37', '推 notneme159: 推個 03/25 21:54', '推 DaHahn: 03/25 23:36', '推 genaro: 03/26 12:42', '推 awaken: 03/26 15:07', '', '', '']}\n",
      "2020-03-28 13:27:25 [scrapy.core.engine] INFO: Closing spider (finished)\n",
      "2020-03-28 13:27:25 [PTTFirst] DEBUG: Save result at /Users/karenwang/Desktop/Program/Python/SpiderCourse/PythonHW/hw026/collect_data/20200328T13:27:24-20200328T13:27:25.json\n",
      "2020-03-28 13:27:25 [scrapy.statscollectors] INFO: Dumping Scrapy stats:\n",
      "{'downloader/request_bytes': 689,\n",
      " 'downloader/request_count': 2,\n",
      " 'downloader/request_method_count/GET': 2,\n",
      " 'downloader/response_bytes': 3991,\n",
      " 'downloader/response_count': 2,\n",
      " 'downloader/response_status_count/200': 1,\n",
      " 'downloader/response_status_count/404': 1,\n",
      " 'elapsed_time_seconds': 0.799399,\n",
      " 'finish_reason': 'finished',\n",
      " 'finish_time': datetime.datetime(2020, 3, 28, 5, 27, 25, 799491),\n",
      " 'item_scraped_count': 1,\n",
      " 'log_count/DEBUG': 6,\n",
      " 'log_count/INFO': 10,\n",
      " 'log_count/WARNING': 1,\n",
      " 'memusage/max': 54501376,\n",
      " 'memusage/startup': 54501376,\n",
      " 'response_received_count': 2,\n",
      " 'robotstxt/request_count': 1,\n",
      " 'robotstxt/response_count': 1,\n",
      " 'robotstxt/response_status_count/404': 1,\n",
      " 'scheduler/dequeued': 1,\n",
      " 'scheduler/dequeued/memory': 1,\n",
      " 'scheduler/enqueued': 1,\n",
      " 'scheduler/enqueued/memory': 1,\n",
      " 'start_time': datetime.datetime(2020, 3, 28, 5, 27, 25, 92)}\n",
      "2020-03-28 13:27:25 [scrapy.core.engine] INFO: Spider closed (finished)\n"
     ]
    }
   ],
   "source": [
    "!scrapy crawl PTTFirst"
   ]
  },
  {
   "cell_type": "code",
   "execution_count": null,
   "metadata": {},
   "outputs": [],
   "source": []
  }
 ],
 "metadata": {
  "kernelspec": {
   "display_name": "Python 3",
   "language": "python",
   "name": "python3"
  },
  "language_info": {
   "codemirror_mode": {
    "name": "ipython",
    "version": 3
   },
   "file_extension": ".py",
   "mimetype": "text/x-python",
   "name": "python",
   "nbconvert_exporter": "python",
   "pygments_lexer": "ipython3",
   "version": "3.7.4"
  }
 },
 "nbformat": 4,
 "nbformat_minor": 4
}
