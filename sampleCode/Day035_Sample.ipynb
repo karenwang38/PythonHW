{
 "cells": [
  {
   "cell_type": "markdown",
   "metadata": {},
   "source": [
    "# 加速：多線程爬蟲\n",
    "\n",
    "\n",
    "\n",
    "* 了解知乎 API 使用方式與回傳內容\n",
    "* 撰寫程式存取 API 且添加標頭"
   ]
  },
  {
   "cell_type": "markdown",
   "metadata": {},
   "source": [
    "## Python 中的多線程"
   ]
  },
  {
   "cell_type": "code",
   "execution_count": 15,
   "metadata": {},
   "outputs": [
    {
     "data": {
      "text/plain": [
       "123145578663936"
      ]
     },
     "execution_count": 15,
     "metadata": {},
     "output_type": "execute_result"
    },
    {
     "name": "stdout",
     "output_type": "stream",
     "text": [
      "Thread-1  =>  0\n",
      "Thread-1  =>  2\n",
      "Thread-2  =>  1\n",
      "Thread-1  =>  4\n",
      "Thread-2  =>  3\n"
     ]
    }
   ],
   "source": [
    "import _thread\n",
    "import time\n",
    "\n",
    "def print_time( threadName, data, delay):\n",
    "    for d in data:\n",
    "        time.sleep(delay)\n",
    "        print(threadName, ' => ', d)\n",
    "\n",
    "_thread.start_new_thread( print_time, (\"Thread-1\", range(0, 5, 2), 2, ) )\n",
    "_thread.start_new_thread( print_time, (\"Thread-2\", range(1, 5, 2), 5, ) )\n"
   ]
  },
  {
   "cell_type": "markdown",
   "metadata": {},
   "source": [
    "## 多線程爬蟲\n"
   ]
  },
  {
   "cell_type": "code",
   "execution_count": 28,
   "metadata": {},
   "outputs": [
    {
     "name": "stdout",
     "output_type": "stream",
     "text": [
      "10.799936056137085\n"
     ]
    }
   ],
   "source": [
    "import requests\n",
    "import time\n",
    "\n",
    "urls = ['http://python.org', 'http://python.org', 'http://python.org',\n",
    "        'http://python.org', 'http://python.org']\n",
    "\n",
    "startTime = time.time()\n",
    "\n",
    "for url in urls:\n",
    "    requests.get(url)\n",
    "\n",
    "finishTime = time.time()\n",
    "print(finishTime - startTime) # 正常情況的爬蟲所需時間"
   ]
  },
  {
   "cell_type": "code",
   "execution_count": 131,
   "metadata": {},
   "outputs": [
    {
     "name": "stdout",
     "output_type": "stream",
     "text": [
      "0.00034618377685546875\n"
     ]
    }
   ],
   "source": [
    "import requests\n",
    "import _thread\n",
    "import time\n",
    "\n",
    "urls = ['http://python.org', 'http://python.org', 'http://python.org',\n",
    "        'http://python.org', 'http://python.org']\n",
    "\n",
    "startTime = time.time()\n",
    "\n",
    "for url in urls:\n",
    "    _thread.start_new_thread( requests.get, (url, ) )\n",
    "\n",
    "finishTime = time.time()\n",
    "print(finishTime - startTime) # 利用 thread 的爬蟲所需時間"
   ]
  },
  {
   "cell_type": "markdown",
   "metadata": {},
   "source": [
    "## 作業目標\n",
    "\n",
    "* 找一個之前實作過的爬蟲改用多線程改寫，比較前後時間的差異。\n",
    "\n",
    "\n",
    "\n"
   ]
  },
  {
   "cell_type": "code",
   "execution_count": 133,
   "metadata": {},
   "outputs": [
    {
     "name": "stdout",
     "output_type": "stream",
     "text": [
      "hello world!\n",
      "['foo']\n"
     ]
    }
   ],
   "source": [
    "# Thread」本質上就會將程式一拆分多，視為不同的程式獨立各自執行。如果需要考量到順序性的話，\n",
    "# 必須要把 Thread 的結果再回傳原本的程式在進行排序。如果是使用我們介紹的 \n",
    "# _thread 內建套件的話無法取得回傳值（程式已經被分成兩的部分各自執行）。\n",
    "# 比較好的作法就是 Function 內處理後寫入資料庫或是外部檔案。\n",
    "# 另外有一個叫 threading 的第三方套件，可以做到取回回傳值，其作法如下：\n",
    "\n",
    "from threading import Thread\n",
    "\n",
    "\n",
    "\n",
    "L = []\n",
    "\n",
    "\n",
    "\n",
    "def foo(bar):\n",
    "\n",
    "    print('hello {}'.format(bar))\n",
    "\n",
    "    L.append('foo')\n",
    "\n",
    "    return \n",
    "\n",
    "\n",
    "\n",
    "thread = Thread(target=foo, args=('world!',))\n",
    "\n",
    "thread.start()\n",
    "\n",
    "thread.join()\n",
    "\n",
    "print(L)"
   ]
  },
  {
   "cell_type": "code",
   "execution_count": 129,
   "metadata": {},
   "outputs": [
    {
     "name": "stdout",
     "output_type": "stream",
     "text": [
      "hello pig\n",
      "hello hello\n",
      "result: foo\n",
      "result: foo\n"
     ]
    }
   ],
   "source": [
    "import time\n",
    "import threading\n",
    "\n",
    "class MyThread(threading.Thread):\n",
    "    def __init__(self, target=None, args=(), **kwargs):\n",
    "        super(MyThread, self).__init__()\n",
    "        self._target = target\n",
    "        self._args = args\n",
    "        self._kwargs = kwargs\n",
    "\n",
    "    def run(self):\n",
    "        if self._target == None:\n",
    "            return\n",
    "        self.__result__ = self._target(*self._args, **self._kwargs)\n",
    "\n",
    "    def get_result(self):\n",
    "        self.join()#當需要取得結果值的時候阻塞等待子執行緒完成\n",
    "        return self.__result__\n",
    "\n",
    "\n",
    "def te(a, b=2, c=3):\n",
    "    print(a, b, c)\n",
    "    time.sleep(1)\n",
    "    return 'boo'\n",
    "\n",
    "def foo(bar):\n",
    "    print ('hello {}'.format(bar))\n",
    "    return 'foo'\n",
    "\n",
    "st = MyThread(target=foo, args=('hello',))\n",
    "st1 = MyThread(target=foo, args=('pig',))\n",
    "st1.start()\n",
    "st.start()\n",
    "print('result:',st.get_result())\n",
    "print('result:',st1.get_result())"
   ]
  },
  {
   "cell_type": "code",
   "execution_count": 130,
   "metadata": {},
   "outputs": [
    {
     "ename": "RuntimeError",
     "evalue": "threads can only be started once",
     "output_type": "error",
     "traceback": [
      "\u001b[0;31m---------------------------------------------------------------------------\u001b[0m",
      "\u001b[0;31mRuntimeError\u001b[0m                              Traceback (most recent call last)",
      "\u001b[0;32m<ipython-input-130-ad947b88bf77>\u001b[0m in \u001b[0;36m<module>\u001b[0;34m\u001b[0m\n\u001b[1;32m      1\u001b[0m \u001b[0;31m# MyThread(target=foo, args=('hello',)).start()\u001b[0m\u001b[0;34m\u001b[0m\u001b[0;34m\u001b[0m\u001b[0;34m\u001b[0m\u001b[0m\n\u001b[0;32m----> 2\u001b[0;31m \u001b[0mst\u001b[0m\u001b[0;34m.\u001b[0m\u001b[0mstart\u001b[0m\u001b[0;34m(\u001b[0m\u001b[0;34m)\u001b[0m\u001b[0;34m\u001b[0m\u001b[0;34m\u001b[0m\u001b[0m\n\u001b[0m",
      "\u001b[0;32m~/opt/anaconda3/lib/python3.7/threading.py\u001b[0m in \u001b[0;36mstart\u001b[0;34m(self)\u001b[0m\n\u001b[1;32m    846\u001b[0m \u001b[0;34m\u001b[0m\u001b[0m\n\u001b[1;32m    847\u001b[0m         \u001b[0;32mif\u001b[0m \u001b[0mself\u001b[0m\u001b[0;34m.\u001b[0m\u001b[0m_started\u001b[0m\u001b[0;34m.\u001b[0m\u001b[0mis_set\u001b[0m\u001b[0;34m(\u001b[0m\u001b[0;34m)\u001b[0m\u001b[0;34m:\u001b[0m\u001b[0;34m\u001b[0m\u001b[0;34m\u001b[0m\u001b[0m\n\u001b[0;32m--> 848\u001b[0;31m             \u001b[0;32mraise\u001b[0m \u001b[0mRuntimeError\u001b[0m\u001b[0;34m(\u001b[0m\u001b[0;34m\"threads can only be started once\"\u001b[0m\u001b[0;34m)\u001b[0m\u001b[0;34m\u001b[0m\u001b[0;34m\u001b[0m\u001b[0m\n\u001b[0m\u001b[1;32m    849\u001b[0m         \u001b[0;32mwith\u001b[0m \u001b[0m_active_limbo_lock\u001b[0m\u001b[0;34m:\u001b[0m\u001b[0;34m\u001b[0m\u001b[0;34m\u001b[0m\u001b[0m\n\u001b[1;32m    850\u001b[0m             \u001b[0m_limbo\u001b[0m\u001b[0;34m[\u001b[0m\u001b[0mself\u001b[0m\u001b[0;34m]\u001b[0m \u001b[0;34m=\u001b[0m \u001b[0mself\u001b[0m\u001b[0;34m\u001b[0m\u001b[0;34m\u001b[0m\u001b[0m\n",
      "\u001b[0;31mRuntimeError\u001b[0m: threads can only be started once"
     ]
    }
   ],
   "source": [
    "# MyThread(target=foo, args=('hello',)).start()\n",
    "st.start()"
   ]
  },
  {
   "cell_type": "code",
   "execution_count": 119,
   "metadata": {},
   "outputs": [
    {
     "data": {
      "text/plain": [
       "<MyThread(Thread-128, stopped 123145573408768)>"
      ]
     },
     "execution_count": 119,
     "metadata": {},
     "output_type": "execute_result"
    }
   ],
   "source": [
    "st1"
   ]
  },
  {
   "cell_type": "code",
   "execution_count": null,
   "metadata": {},
   "outputs": [],
   "source": []
  }
 ],
 "metadata": {
  "kernelspec": {
   "display_name": "Python 3",
   "language": "python",
   "name": "python3"
  },
  "language_info": {
   "codemirror_mode": {
    "name": "ipython",
    "version": 3
   },
   "file_extension": ".py",
   "mimetype": "text/x-python",
   "name": "python",
   "nbconvert_exporter": "python",
   "pygments_lexer": "ipython3",
   "version": "3.7.4"
  }
 },
 "nbformat": 4,
 "nbformat_minor": 2
}
